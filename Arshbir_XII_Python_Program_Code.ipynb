{
  "nbformat": 4,
  "nbformat_minor": 0,
  "metadata": {
    "colab": {
      "provenance": []
    },
    "kernelspec": {
      "name": "python3",
      "display_name": "Python 3"
    },
    "language_info": {
      "name": "python"
    }
  },
  "cells": [
    {
      "cell_type": "code",
      "execution_count": null,
      "metadata": {
        "colab": {
          "base_uri": "https://localhost:8080/"
        },
        "id": "g8sTU4jfhTZg",
        "outputId": "84e0af0e-3aa9-4eb6-b5e1-8cdc774c4aac"
      },
      "outputs": [
        {
          "output_type": "stream",
          "name": "stdout",
          "text": [
            "Enter lowest number as lower bound to check : 1\n",
            "Enter highest number as upper bound to check: 100\n",
            "2 3 5 7 11 13 17 19 23 29 31 37 41 43 47 53 59 61 67 71 73 79 83 89 97 "
          ]
        }
      ],
      "source": [
        "# \tProgram to show whether entered numbers are prime or not in the given range.\n",
        "\n",
        "lower=int(input(\"Enter lowest number as lower bound to check : \"))\n",
        "upper=int(input(\"Enter highest number as upper bound to check: \"))\n",
        "c=0\n",
        "for i in range(lower, upper+1):\n",
        "     if (i == 1):\n",
        "          continue\n",
        "\n",
        "# flag variable to tell if i is prime or not\n",
        "     flag = 1\n",
        "\n",
        "     for j in range(2, i // 2 + 1):\n",
        "          if (i % j == 0):\n",
        "               flag = 0\n",
        "               break\n",
        "\n",
        "# flag = 1 means i is prime\n",
        "# and flag = 0 means i is not prime\n",
        "     if (flag == 1):\n",
        "          print(i, end = \" \")"
      ]
    },
    {
      "cell_type": "code",
      "source": [
        "# Program to input a string and determine whether it is a palindrome or not.\n",
        "\n",
        "string=input('Enter a string:')\n",
        "length=len(string)\n",
        "mid=length//2\n",
        "rev=-1\n",
        "for a in range(mid):\n",
        "     if string[a]==string[rev]:\n",
        "          print(string,'is a palindrome.')\n",
        "          break\n",
        "     else:\n",
        "          print(string,'is not a palindrome.')\n",
        "          break"
      ],
      "metadata": {
        "colab": {
          "base_uri": "https://localhost:8080/"
        },
        "id": "_SDiLLAghXSY",
        "outputId": "0975d585-dcdc-45d4-ffe5-2452a02af262"
      },
      "execution_count": null,
      "outputs": [
        {
          "output_type": "stream",
          "name": "stdout",
          "text": [
            "Enter a string:madam\n",
            "madam is a palindrome.\n"
          ]
        }
      ]
    },
    {
      "cell_type": "code",
      "source": [
        "# Find the largest/smallest number in a list/tuple\n",
        "\n",
        "# creating empty list\n",
        "list1 = []\n",
        "\n",
        "# asking number of elements to put in list\n",
        "num = int(input(\"Enter number of elements in list: \"))\n",
        "\n",
        "# iterating till num to append elements in list\n",
        "for i in range(1, num + 1):\n",
        "    ele= int(input(\"Enter elements: \"))\n",
        "    list1.append(ele)\n",
        "\n",
        "# print maximum element\n",
        "print(\"Largest element is:\", max(list1))\n",
        "\n",
        "# print minimum element\n",
        "print(\"Smallest element is:\", min(list1))"
      ],
      "metadata": {
        "colab": {
          "base_uri": "https://localhost:8080/"
        },
        "id": "oiV4TzJwjDT6",
        "outputId": "d4208f5a-1e30-4f0e-ca01-eb6fe7fcd2dc"
      },
      "execution_count": null,
      "outputs": [
        {
          "output_type": "stream",
          "name": "stdout",
          "text": [
            "Enter number of elements in list: 5\n",
            "Enter elements: 34\n",
            "Enter elements: 67\n",
            "Enter elements: 12\n",
            "Enter elements: 22\n",
            "Enter elements: 78\n",
            "Largest element is: 78\n",
            "Smallest element is: 12\n"
          ]
        }
      ]
    },
    {
      "cell_type": "code",
      "source": [
        "# Program to input any two tuples and swap their values.\n",
        "\n",
        "t1 = tuple()\n",
        "n = int (input(\"Total no of values in First tuple: \"))\n",
        "for i in range(n):\n",
        "     a = input(\"Enter Elements : \")\n",
        "     t1 = t1 + (a,)\n",
        "t2 = tuple()\n",
        "m = int (input(\"Total no of values in Second tuple: \"))\n",
        "for i in range(m):\n",
        "     a = input(\"Enter Elements : \")\n",
        "     t2 = t2 + (a,)\n",
        "print(\"First Tuple : \")\n",
        "print(t1)\n",
        "print(\"Second Tuple : \")\n",
        "print(t2)\n",
        "\n",
        "t1,t2 = t2, t1\n",
        "\n",
        "print(\"After Swapping: \")\n",
        "print(\"First Tuple : \")\n",
        "print(t1)\n",
        "print(\"Second Tuple : \")\n",
        "print(t2)"
      ],
      "metadata": {
        "colab": {
          "base_uri": "https://localhost:8080/"
        },
        "id": "DfEcqXmNkd3y",
        "outputId": "9577dbe2-8673-4401-a7d7-5fdfe9de78ba"
      },
      "execution_count": null,
      "outputs": [
        {
          "output_type": "stream",
          "name": "stdout",
          "text": [
            "Total no of values in First tuple: 3\n",
            "Enter Elements : 12\n",
            "Enter Elements : 45\n",
            "Enter Elements : 67\n",
            "Total no of values in Second tuple: 2\n",
            "Enter Elements : 55\n",
            "Enter Elements : 87\n",
            "First Tuple : \n",
            "('12', '45', '67')\n",
            "Second Tuple : \n",
            "('55', '87')\n",
            "After Swapping: \n",
            "First Tuple : \n",
            "('55', '87')\n",
            "Second Tuple : \n",
            "('12', '45', '67')\n"
          ]
        }
      ]
    },
    {
      "cell_type": "code",
      "source": [
        "# program with a user-defined function with string as a parameter\n",
        "# which replaces all vowels in the string with ‘*’.\n",
        "\n",
        "def strep(str):\n",
        "    # convert string into list\n",
        "    str_lst =list(str)\n",
        "    # Iterate list\n",
        "    for i in range(len(str_lst)):\n",
        "    # Each Character Check with Vowels\n",
        "          if str_lst[i] in 'aeiouAEIOU':\n",
        "        # Replace ith position vowel with'*'\n",
        "                str_lst[i]='*'\n",
        "        #to join the characters into a new string.\n",
        "                new_str = \"\".join(str_lst)\n",
        "    return new_str"
      ],
      "metadata": {
        "id": "BxZXxzZRmB94"
      },
      "execution_count": null,
      "outputs": []
    },
    {
      "cell_type": "code",
      "source": [
        "line = input(\"Enter string: \")\n",
        "print(\"Orginal  String\")\n",
        "print(line)\n",
        "print(\"After replacing Vowels with '*'\")\n",
        "print(strep(line))"
      ],
      "metadata": {
        "colab": {
          "base_uri": "https://localhost:8080/"
        },
        "id": "Rpg0ls2hbJWN",
        "outputId": "51f59c2c-6776-43b6-872f-157e8cd5b6b9"
      },
      "execution_count": null,
      "outputs": [
        {
          "output_type": "stream",
          "name": "stdout",
          "text": [
            "Enter string: This is my world\n",
            "Orginal  String\n",
            "This is my world\n",
            "After replacing Vowels with '*'\n",
            "Th*s *s my w*rld\n"
          ]
        }
      ]
    },
    {
      "cell_type": "code",
      "source": [
        "# Recursively find the factorial of a natural number.\n",
        "def factorial(n):\n",
        "    if n == 0:\n",
        "        return 1\n",
        "    else:\n",
        "        return n * factorial(n-1)"
      ],
      "metadata": {
        "id": "Tn5WfeiKb0NP"
      },
      "execution_count": null,
      "outputs": []
    },
    {
      "cell_type": "code",
      "source": [
        "n = int(input(\"Enter any number: \"))\n",
        "print(\"The factorial of given number is: \",factorial(n))"
      ],
      "metadata": {
        "colab": {
          "base_uri": "https://localhost:8080/"
        },
        "id": "k4Zuzn1zcEFR",
        "outputId": "8ecebd87-d2fa-4a32-e524-6bc623986e2a"
      },
      "execution_count": null,
      "outputs": [
        {
          "output_type": "stream",
          "name": "stdout",
          "text": [
            "Enter any number: 5\n",
            "The factorial of given number is:  120\n"
          ]
        }
      ]
    },
    {
      "cell_type": "code",
      "source": [
        "# Write a user defined method to print nth elements of Fibonacci series.\n",
        "\n",
        "def fibonacci(n):\n",
        "    a=0\n",
        "    b=1\n",
        "    print (a , b , end=\"  \")\n",
        "    for i in range(n-2):\n",
        "        c=a+b\n",
        "        print(c , end=\"  \")\n",
        "        a=b\n",
        "        b=c\n",
        "    return"
      ],
      "metadata": {
        "id": "r4kkG2rDdYbw"
      },
      "execution_count": null,
      "outputs": []
    },
    {
      "cell_type": "code",
      "source": [
        "fibonacci(10)"
      ],
      "metadata": {
        "colab": {
          "base_uri": "https://localhost:8080/"
        },
        "id": "_Qpand80dcqi",
        "outputId": "542a06f9-2985-46f3-fa1b-a2983836ea5f"
      },
      "execution_count": null,
      "outputs": [
        {
          "output_type": "stream",
          "name": "stdout",
          "text": [
            "0 1  1  2  3  5  8  13  21  34  "
          ]
        }
      ]
    },
    {
      "cell_type": "code",
      "source": [
        "fibonacci(5)"
      ],
      "metadata": {
        "colab": {
          "base_uri": "https://localhost:8080/"
        },
        "id": "-4L3ySLVde-v",
        "outputId": "44596408-734c-49f6-a092-7d0d4a346cdb"
      },
      "execution_count": null,
      "outputs": [
        {
          "output_type": "stream",
          "name": "stdout",
          "text": [
            "0 1  1  2  3  "
          ]
        }
      ]
    },
    {
      "cell_type": "code",
      "source": [
        "# this is the contents of  dav.txt file\n",
        "Welcome to a journey through DAV Public School, Sector 8-C Chandigarh, a school that has entered its 46th year land mark. These years have given the required experience and wisdom to us – the facilitators, to help our learners to introspect themselves in order to accentuate their potential for learning, thus enabling them to reach the summit of success through paramount endeavors so as to shoulder the responsibilities as good citizens & human beings.\n",
        "\n",
        "At DAVPS 8-C we have incorporated the pivotal DAV philosophy that acknowledges not only the best that modern western education has to offer but also the basic values of our ancient cultural heritage. We follow the footprints of the great Maharishi Dayanand who having firm belief rooted in the soil of great Indian culture had no inhibitions in accepting the brighter side of the west.\n",
        "\n",
        "Beginning from a miniscule on the map of Chandigarh, we have risen to the full blown circle with duly acknowledged prestige in the landscape of the city’s educationists, officials and public alike for the multifarious achievements of the students and teachers in varied scholastic and non-scholastic areas. With absolute landmarks in CBSE Examinations, science projects, Technology Aided Learning, sports like table tennis, basketball, lawn tennis, chess, skating, martial arts and performing arts, we have mapped the national and the international arena."
      ],
      "metadata": {
        "id": "taWN1V77gNCl"
      },
      "execution_count": null,
      "outputs": []
    },
    {
      "cell_type": "code",
      "source": [
        "# Read a text file line by line and display each word separated by a *.\n",
        "\n",
        "filein = open(\"dav.txt\",'r')\n",
        "line =\" \"\n",
        "while line:\n",
        "     line = filein.readline()\n",
        "     #print(line)\n",
        "     for w in line:\n",
        "          if w == ' ':\n",
        "               print('*',end = '')\n",
        "          else:\n",
        "               print(w,end = '')\n",
        "filein.close()"
      ],
      "metadata": {
        "colab": {
          "base_uri": "https://localhost:8080/"
        },
        "id": "nLwwfYYdd5ZK",
        "outputId": "e632d767-67a3-49f7-f2b9-33998550f264"
      },
      "execution_count": null,
      "outputs": [
        {
          "output_type": "stream",
          "name": "stdout",
          "text": [
            "Welcome*to*a*journey*through*DAV*Public*School,*Sector*8-C*Chandigarh,*a*school*that*has*entered*its*46th*year*land*mark.*These*years*have*given*the*required*experience*and*wisdom*to*us*–*the*facilitators,*to*help*our*learners*to*introspect*themselves*in*order*to*accentuate*their*potential*for*learning,*thus*enabling*them*to*reach*the*summit*of*success*through*paramount*endeavors*so*as*to*shoulder*the*responsibilities*as*good*citizens*&*human*beings.\n",
            "\n",
            "At*DAVPS*8-C*we*have*incorporated*the*pivotal*DAV*philosophy*that*acknowledges*not*only*the*best*that*modern*western*education*has*to*offer*but*also*the*basic*values*of*our*ancient*cultural*heritage.*We*follow*the*footprints*of*the*great*Maharishi*Dayanand*who*having*firm*belief*rooted*in*the*soil*of*great*Indian*culture*had*no*inhibitions*in*accepting*the*brighter*side*of*the*west.\n",
            "\n",
            "Beginning*from*a*miniscule*on*the*map*of*Chandigarh,*we*have*risen*to*the*full*blown*circle*with*duly*acknowledged*prestige*in*the*landscape*of*the*city’s*educationists,*officials*and*public*alike*for*the*multifarious*achievements*of*the*students*and*teachers*in*varied*scholastic*and*non-scholastic*areas.*With*absolute*landmarks*in*CBSE*Examinations,*science*projects,*Technology*Aided*Learning,*sports*like*table*tennis,*basketball,*lawn*tennis,*chess,*skating,*martial*arts*and*performing*arts,*we*have*mapped*the*national*and*the*international*arena."
          ]
        }
      ]
    },
    {
      "cell_type": "code",
      "source": [
        "# python program to implement a stack using a list data-structure.\n",
        "\n",
        "# function to check stack is empty\n",
        "def isempty(stk):\n",
        "    if stk==[]:\n",
        "        return True\n",
        "    else:\n",
        "        return False\n",
        "\n",
        "# push function insert element on top of stack\n",
        "def push(stk,item):\n",
        "    stk.append(item)\n",
        "    top=len(stk)-1\n",
        "\n",
        "#pop function take out element from top of stack\n",
        "def pop(stk):\n",
        "    if isempty(stk):\n",
        "        return \"underflow\"\n",
        "    else:\n",
        "        item=stk.pop()\n",
        "    if len(stk)==0:\n",
        "        top=None\n",
        "    else:\n",
        "        top=len(stk)-1\n",
        "        return item\n",
        "\n",
        "#peek function check what is on the top of stack\n",
        "def peek(stk):\n",
        "    if isempty(stk):\n",
        "        return \"underflow\"\n",
        "    else:\n",
        "        top=len(stk)-1\n",
        "        return stk[top]\n",
        "\n",
        "#function to print all elements from stack\n",
        "def display(stk):\n",
        "    if isempty(stk):\n",
        "        print('stack is empty')\n",
        "    else:\n",
        "        top=len(stk)-1\n",
        "        print(stk[top],'<-top')\n",
        "        for i in range(top-1,-1,-1):\n",
        "            print(stk[i])"
      ],
      "metadata": {
        "id": "qmp2na81gmq5"
      },
      "execution_count": null,
      "outputs": []
    },
    {
      "cell_type": "code",
      "source": [
        "stack1 = []\n",
        "print(stack1)\n",
        "print( peek(stack1) )\n",
        "push (stack1, 10)\n",
        "print (stack1)\n",
        "push (stack1, 20)\n",
        "print (stack1)\n",
        "pop (stack1)\n",
        "print (stack1)\n",
        "push (stack1, 30)\n",
        "print (stack1)\n",
        "push (stack1, 40)\n",
        "print (stack1)\n",
        "display(stack1)"
      ],
      "metadata": {
        "colab": {
          "base_uri": "https://localhost:8080/"
        },
        "id": "qgu0zI9gr-T3",
        "outputId": "42707b60-e750-4c11-9219-7ab259af2ac7"
      },
      "execution_count": null,
      "outputs": [
        {
          "output_type": "stream",
          "name": "stdout",
          "text": [
            "[]\n",
            "underflow\n",
            "[10]\n",
            "[10, 20]\n",
            "[10]\n",
            "[10, 30]\n",
            "[10, 30, 40]\n",
            "40 <-top\n",
            "30\n",
            "10\n"
          ]
        }
      ]
    },
    {
      "cell_type": "code",
      "source": [],
      "metadata": {
        "id": "QD5gl9DVr-XX"
      },
      "execution_count": null,
      "outputs": []
    }
  ]
}